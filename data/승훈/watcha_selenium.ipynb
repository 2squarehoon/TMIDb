{
 "cells": [
  {
   "cell_type": "code",
   "execution_count": 2,
   "id": "d5ca9fae",
   "metadata": {},
   "outputs": [],
   "source": [
    "from urllib.request import urlopen\n",
    "from bs4 import BeautifulSoup\n",
    "from selenium import webdriver\n",
    "import pandas as pd"
   ]
  },
  {
   "cell_type": "code",
   "execution_count": 26,
   "id": "64d94f3a",
   "metadata": {
    "scrolled": true
   },
   "outputs": [
    {
     "name": "stderr",
     "output_type": "stream",
     "text": [
      "C:\\Users\\SH\\AppData\\Local\\Temp\\ipykernel_25468\\867719717.py:1: DeprecationWarning: executable_path has been deprecated, please pass in a Service object\n",
      "  driver = webdriver.Chrome('./driver/chromedriver.exe')\n"
     ]
    },
    {
     "name": "stdout",
     "output_type": "stream",
     "text": [
      "221\n"
     ]
    },
    {
     "name": "stderr",
     "output_type": "stream",
     "text": [
      "C:\\Users\\SH\\AppData\\Local\\Temp\\ipykernel_25468\\867719717.py:11: DeprecationWarning: find_element_by_class_name is deprecated. Please use find_element(by=By.CLASS_NAME, value=name) instead\n",
      "  popup_close = driver.find_element_by_class_name('css-1d6nfxu').click() # 팝업창 닫기\n",
      "C:\\Users\\SH\\AppData\\Local\\Temp\\ipykernel_25468\\867719717.py:12: DeprecationWarning: find_elements_by_class_name is deprecated. Please use find_elements(by=By.CLASS_NAME, value=name) instead\n",
      "  search_cnt = len(driver.find_elements_by_class_name('css-31iyzt')) # title로 검색해서 나온 결과 수\n",
      "C:\\Users\\SH\\AppData\\Local\\Temp\\ipykernel_25468\\867719717.py:18: DeprecationWarning: find_element_by_xpath is deprecated. Please use find_element(by=By.XPATH, value=xpath) instead\n",
      "  if year == int(driver.find_element_by_xpath(f\"/html/body/div/div/div[1]/section/section/div[3]/div[1]/section/section[1]/div/div[1]/div/ul/li[{j+1}]/a/div[2]/div[2]\").get_attribute('innerHTML')[0:4]):\n",
      "C:\\Users\\SH\\AppData\\Local\\Temp\\ipykernel_25468\\867719717.py:19: DeprecationWarning: find_element_by_xpath is deprecated. Please use find_element(by=By.XPATH, value=xpath) instead\n",
      "  driver.find_element_by_xpath(f\"/html/body/div/div/div[1]/section/section/div[3]/div[1]/section/section[1]/div/div[1]/div/ul/li[{j+1}]/a/div[2]/div[2]\").click()\n",
      "C:\\Users\\SH\\AppData\\Local\\Temp\\ipykernel_25468\\867719717.py:23: DeprecationWarning: find_element_by_xpath is deprecated. Please use find_element(by=By.XPATH, value=xpath) instead\n",
      "  target = driver.find_element_by_xpath(\"\"\"/html/body/div[1]/div/div[1]/section/div/div[2]/div/section/div[2]/div/div/div/div/div[2]\"\"\") # target 설정\n",
      "C:\\Users\\SH\\AppData\\Local\\Temp\\ipykernel_25468\\867719717.py:24: SettingWithCopyWarning: \n",
      "A value is trying to be set on a copy of a slice from a DataFrame\n",
      "\n",
      "See the caveats in the documentation: https://pandas.pydata.org/pandas-docs/stable/user_guide/indexing.html#returning-a-view-versus-a-copy\n",
      "  rating['watcha_rating'][i] = float(target.get_attribute('innerHTML')[4:7]) # 평점\n",
      "C:\\Users\\SH\\AppData\\Local\\Temp\\ipykernel_25468\\867719717.py:25: SettingWithCopyWarning: \n",
      "A value is trying to be set on a copy of a slice from a DataFrame\n",
      "\n",
      "See the caveats in the documentation: https://pandas.pydata.org/pandas-docs/stable/user_guide/indexing.html#returning-a-view-versus-a-copy\n",
      "  rating['watcha_count'][i] = target.get_attribute('innerHTML')[9:-1] # 관람객\n"
     ]
    },
    {
     "name": "stdout",
     "output_type": "stream",
     "text": [
      "222\n",
      "223\n",
      "224\n",
      "225\n",
      "226\n",
      "227\n",
      "228\n",
      "229\n"
     ]
    },
    {
     "name": "stderr",
     "output_type": "stream",
     "text": [
      "C:\\Users\\SH\\AppData\\Local\\Temp\\ipykernel_25468\\867719717.py:14: DeprecationWarning: find_element_by_xpath is deprecated. Please use find_element(by=By.XPATH, value=xpath) instead\n",
      "  driver.find_element_by_xpath(\"\"\"/html/body/div/div/div[1]/section/section/div[3]/div[1]/section/section[1]/div/div[1]/div/ul/li/a/div[2]/div[2]\"\"\").click()\n"
     ]
    },
    {
     "name": "stdout",
     "output_type": "stream",
     "text": [
      "230\n"
     ]
    }
   ],
   "source": [
    "driver = webdriver.Chrome('./driver/chromedriver.exe')\n",
    "rating = pd.read_csv('data_watcha.csv', encoding='utf-8')\n",
    "for i in range(221, 231): \n",
    "    print(i) # 오류난 위치 바로 찾기 위함\n",
    "    title = rating['title'][i]\n",
    "    year = rating['year'][i]\n",
    "    url = 'https://pedia.watcha.com/ko-KR/search?query='\n",
    "    q = title.replace(' ', '%20').replace(':', '%3A').replace(',', '%2C')\n",
    "\n",
    "    driver.get(url+q)\n",
    "    popup_close = driver.find_element_by_class_name('css-1d6nfxu').click() # 팝업창 닫기\n",
    "    search_cnt = len(driver.find_elements_by_class_name('css-31iyzt')) # title로 검색해서 나온 결과 수\n",
    "    if search_cnt == 1:\n",
    "        driver.find_element_by_xpath(\"\"\"/html/body/div/div/div[1]/section/section/div[3]/div[1]/section/section[1]/div/div[1]/div/ul/li/a/div[2]/div[2]\"\"\").click()\n",
    "\n",
    "    else:\n",
    "        for j in range(search_cnt): # 찾고자 하는 영화의 연도로 비교해서 같은 연도의 영화면 클릭한다. int처리안하니까 같다고 인지를 못하네\n",
    "            if year == int(driver.find_element_by_xpath(f\"/html/body/div/div/div[1]/section/section/div[3]/div[1]/section/section[1]/div/div[1]/div/ul/li[{j+1}]/a/div[2]/div[2]\").get_attribute('innerHTML')[0:4]):\n",
    "                driver.find_element_by_xpath(f\"/html/body/div/div/div[1]/section/section/div[3]/div[1]/section/section[1]/div/div[1]/div/ul/li[{j+1}]/a/div[2]/div[2]\").click()\n",
    "                break\n",
    "    driver.implicitly_wait(5) # 클릭 후에는 좀 기다려주자\n",
    "    if not rating['watcha_rating'][i]:\n",
    "        target = driver.find_element_by_xpath(\"\"\"/html/body/div[1]/div/div[1]/section/div/div[2]/div/section/div[2]/div/div/div/div/div[2]\"\"\") # target 설정\n",
    "        rating['watcha_rating'][i] = float(target.get_attribute('innerHTML')[4:7]) # 평점\n",
    "        rating['watcha_count'][i] = target.get_attribute('innerHTML')[9:-1] # 관람객\n",
    "    \n",
    "    driver.implicitly_wait(5)\n",
    "\n",
    "rating = rating.set_index(keys=['title_id'], inplace=False)\n",
    "rating.to_csv('data_watcha.csv')"
   ]
  },
  {
   "cell_type": "code",
   "execution_count": 37,
   "id": "e766febc",
   "metadata": {
    "scrolled": true
   },
   "outputs": [
    {
     "name": "stderr",
     "output_type": "stream",
     "text": [
      "C:\\Users\\SH\\AppData\\Local\\Temp\\ipykernel_25444\\3322970546.py:1: DeprecationWarning: executable_path has been deprecated, please pass in a Service object\n",
      "  driver = webdriver.Chrome('./driver/chromedriver.exe')\n",
      "C:\\Users\\SH\\AppData\\Local\\Temp\\ipykernel_25444\\3322970546.py:9: DeprecationWarning: find_element_by_class_name is deprecated. Please use find_element(by=By.CLASS_NAME, value=name) instead\n",
      "  popup_close = driver.find_element_by_class_name('css-1d6nfxu').click() # 팝업창 닫기\n",
      "C:\\Users\\SH\\AppData\\Local\\Temp\\ipykernel_25444\\3322970546.py:10: DeprecationWarning: find_elements_by_class_name is deprecated. Please use find_elements(by=By.CLASS_NAME, value=name) instead\n",
      "  search_cnt = len(driver.find_elements_by_class_name('css-31iyzt'))\n",
      "C:\\Users\\SH\\AppData\\Local\\Temp\\ipykernel_25444\\3322970546.py:12: DeprecationWarning: find_element_by_xpath is deprecated. Please use find_element(by=By.XPATH, value=xpath) instead\n",
      "  if year == driver.find_element_by_xpath(f\"\"\"/html/body/div/div/div[1]/section/section/div[3]/div[1]/section/section[1]/div/div[1]/div/ul/li[{j+1}]/a/div[2]/div[2]\"\"\").get_attribute('innerHTML')[0:4]:\n",
      "C:\\Users\\SH\\AppData\\Local\\Temp\\ipykernel_25444\\3322970546.py:13: DeprecationWarning: find_element_by_xpath is deprecated. Please use find_element(by=By.XPATH, value=xpath) instead\n",
      "  driver.find_element_by_xpath(f\"\"\"/html/body/div/div/div[1]/section/section/div[3]/div[1]/section/section[1]/div/div[1]/div/ul/li[{j+1}]/a/div[2]/div[2]\"\"\").click()\n"
     ]
    }
   ],
   "source": [
    "driver = webdriver.Chrome('./driver/chromedriver.exe')\n",
    "rating = pd.read_csv('data.csv', encoding='utf-8')\n",
    "\n",
    "title = 'the godfather'\n",
    "year = '1972'\n",
    "url = 'https://pedia.watcha.com/ko-KR/search?query='\n",
    "q = title.replace(' ', '%20').replace(':', '%3A').replace(',', '%2C')\n",
    "driver.get(url+q)\n",
    "popup_close = driver.find_element_by_class_name('css-1d6nfxu').click() # 팝업창 닫기\n",
    "search_cnt = len(driver.find_elements_by_class_name('css-31iyzt'))\n",
    "for j in range(search_cnt):\n",
    "    if year == driver.find_element_by_xpath(f\"\"\"/html/body/div/div/div[1]/section/section/div[3]/div[1]/section/section[1]/div/div[1]/div/ul/li[{j+1}]/a/div[2]/div[2]\"\"\").get_attribute('innerHTML')[0:4]:\n",
    "        driver.find_element_by_xpath(f\"\"\"/html/body/div/div/div[1]/section/section/div[3]/div[1]/section/section[1]/div/div[1]/div/ul/li[{j+1}]/a/div[2]/div[2]\"\"\").click()\n",
    "        break"
   ]
  },
  {
   "cell_type": "code",
   "execution_count": 17,
   "id": "e642ea54",
   "metadata": {},
   "outputs": [
    {
     "name": "stderr",
     "output_type": "stream",
     "text": [
      "C:\\Users\\SH\\AppData\\Local\\Temp\\ipykernel_25444\\1275640925.py:2: DeprecationWarning: executable_path has been deprecated, please pass in a Service object\n",
      "  driver = webdriver.Chrome('./driver/chromedriver.exe')\n",
      "C:\\Users\\SH\\AppData\\Local\\Temp\\ipykernel_25444\\1275640925.py:9: DeprecationWarning: find_element_by_class_name is deprecated. Please use find_element(by=By.CLASS_NAME, value=name) instead\n",
      "  popup_close = driver.find_element_by_class_name('css-1d6nfxu').click() # 팝업창 닫기\n",
      "C:\\Users\\SH\\AppData\\Local\\Temp\\ipykernel_25444\\1275640925.py:10: DeprecationWarning: find_elements_by_class_name is deprecated. Please use find_elements(by=By.CLASS_NAME, value=name) instead\n",
      "  search_cnt = len(driver.find_elements_by_class_name('css-31iyzt'))\n",
      "C:\\Users\\SH\\AppData\\Local\\Temp\\ipykernel_25444\\1275640925.py:12: DeprecationWarning: find_element_by_xpath is deprecated. Please use find_element(by=By.XPATH, value=xpath) instead\n",
      "  if year == driver.find_element_by_xpath(f\"\"\"/html/body/div/div/div[1]/section/section/div[3]/div[1]/section/section[1]/div/div[1]/div/ul/li[{j+1}]/a/div[2]/div[2]\"\"\").get_attribute('innerHTML')[0:4]:\n",
      "C:\\Users\\SH\\AppData\\Local\\Temp\\ipykernel_25444\\1275640925.py:13: DeprecationWarning: find_element_by_xpath is deprecated. Please use find_element(by=By.XPATH, value=xpath) instead\n",
      "  driver.find_element_by_xpath(f\"\"\"/html/body/div/div/div[1]/section/section/div[3]/div[1]/section/section[1]/div/div[1]/div/ul/li[{j+1}]/a/div[2]/div[2]\"\"\").click()\n",
      "C:\\Users\\SH\\AppData\\Local\\Temp\\ipykernel_25444\\1275640925.py:16: DeprecationWarning: find_element_by_xpath is deprecated. Please use find_element(by=By.XPATH, value=xpath) instead\n",
      "  target = driver.find_element_by_xpath(\"\"\"/html/body/div[1]/div/div[1]/section/div/div[2]/div/section/div[2]/div/div/div/div/div[2]\"\"\") # target 설정\n"
     ]
    },
    {
     "name": "stdout",
     "output_type": "stream",
     "text": [
      "[4.3, '24만명']\n"
     ]
    }
   ],
   "source": [
    "rating = [0, 0]\n",
    "driver = webdriver.Chrome('./driver/chromedriver.exe')\n",
    "title = 'the godfather'\n",
    "year = '1972'\n",
    "url = 'https://pedia.watcha.com/ko-KR/search?query='\n",
    "q = title.replace(' ', '%20').replace(':', '%3A').replace(',', '%2C')\n",
    "\n",
    "driver.get(url+q)\n",
    "popup_close = driver.find_element_by_class_name('css-1d6nfxu').click() # 팝업창 닫기\n",
    "search_cnt = len(driver.find_elements_by_class_name('css-31iyzt'))\n",
    "for j in range(search_cnt):\n",
    "    if year == driver.find_element_by_xpath(f\"\"\"/html/body/div/div/div[1]/section/section/div[3]/div[1]/section/section[1]/div/div[1]/div/ul/li[{j+1}]/a/div[2]/div[2]\"\"\").get_attribute('innerHTML')[0:4]:\n",
    "        driver.find_element_by_xpath(f\"\"\"/html/body/div/div/div[1]/section/section/div[3]/div[1]/section/section[1]/div/div[1]/div/ul/li[{j+1}]/a/div[2]/div[2]\"\"\").click()\n",
    "        break\n",
    "driver.implicitly_wait(5) # 클릭 후에는 좀 기다려주자\n",
    "target = driver.find_element_by_xpath(\"\"\"/html/body/div[1]/div/div[1]/section/div/div[2]/div/section/div[2]/div/div/div/div/div[2]\"\"\") # target 설정\n",
    "rating[0] = float(target.get_attribute('innerHTML')[4:7]) # 평점\n",
    "rating[1] = target.get_attribute('innerHTML')[9:-1] # 관람객\n",
    "print(rating)"
   ]
  },
  {
   "cell_type": "code",
   "execution_count": null,
   "id": "2fe874b8",
   "metadata": {},
   "outputs": [],
   "source": [
    "/html/body/div[1]/div/div[1]/section/div/div[2]/div/section/div[2]/div/div/div/div/div[2]\n"
   ]
  },
  {
   "cell_type": "code",
   "execution_count": null,
   "id": "ccfcda8e",
   "metadata": {},
   "outputs": [],
   "source": []
  }
 ],
 "metadata": {
  "kernelspec": {
   "display_name": "Python 3 (ipykernel)",
   "language": "python",
   "name": "python3"
  },
  "language_info": {
   "codemirror_mode": {
    "name": "ipython",
    "version": 3
   },
   "file_extension": ".py",
   "mimetype": "text/x-python",
   "name": "python",
   "nbconvert_exporter": "python",
   "pygments_lexer": "ipython3",
   "version": "3.9.9"
  },
  "toc": {
   "base_numbering": 1,
   "nav_menu": {},
   "number_sections": true,
   "sideBar": true,
   "skip_h1_title": false,
   "title_cell": "Table of Contents",
   "title_sidebar": "Contents",
   "toc_cell": false,
   "toc_position": {},
   "toc_section_display": true,
   "toc_window_display": false
  }
 },
 "nbformat": 4,
 "nbformat_minor": 5
}
